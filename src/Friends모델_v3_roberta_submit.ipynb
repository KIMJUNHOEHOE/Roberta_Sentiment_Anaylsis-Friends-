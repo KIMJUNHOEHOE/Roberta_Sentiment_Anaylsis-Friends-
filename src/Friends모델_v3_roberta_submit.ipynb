{
  "nbformat": 4,
  "nbformat_minor": 0,
  "metadata": {
    "colab": {
      "name": "Friends모델_v3_roberta_submit.ipynb",
      "provenance": [],
      "collapsed_sections": [],
      "toc_visible": true
    },
    "kernelspec": {
      "name": "python3",
      "display_name": "Python 3"
    },
    "accelerator": "GPU",
    "widgets": {
      "application/vnd.jupyter.widget-state+json": {
        "034463ec4b8b4a5ebf577166db6dfdcf": {
          "model_module": "@jupyter-widgets/controls",
          "model_name": "HBoxModel",
          "state": {
            "_view_name": "HBoxView",
            "_dom_classes": [],
            "_model_name": "HBoxModel",
            "_view_module": "@jupyter-widgets/controls",
            "_model_module_version": "1.5.0",
            "_view_count": null,
            "_view_module_version": "1.5.0",
            "box_style": "",
            "layout": "IPY_MODEL_66e995ddf8324277931332bed86a6b11",
            "_model_module": "@jupyter-widgets/controls",
            "children": [
              "IPY_MODEL_6b97d7da9e0947de8509dcd5b19c77a4",
              "IPY_MODEL_febc7b80019348d696a87273c9a51912"
            ]
          }
        },
        "66e995ddf8324277931332bed86a6b11": {
          "model_module": "@jupyter-widgets/base",
          "model_name": "LayoutModel",
          "state": {
            "_view_name": "LayoutView",
            "grid_template_rows": null,
            "right": null,
            "justify_content": null,
            "_view_module": "@jupyter-widgets/base",
            "overflow": null,
            "_model_module_version": "1.2.0",
            "_view_count": null,
            "flex_flow": null,
            "width": null,
            "min_width": null,
            "border": null,
            "align_items": null,
            "bottom": null,
            "_model_module": "@jupyter-widgets/base",
            "top": null,
            "grid_column": null,
            "overflow_y": null,
            "overflow_x": null,
            "grid_auto_flow": null,
            "grid_area": null,
            "grid_template_columns": null,
            "flex": null,
            "_model_name": "LayoutModel",
            "justify_items": null,
            "grid_row": null,
            "max_height": null,
            "align_content": null,
            "visibility": null,
            "align_self": null,
            "height": null,
            "min_height": null,
            "padding": null,
            "grid_auto_rows": null,
            "grid_gap": null,
            "max_width": null,
            "order": null,
            "_view_module_version": "1.2.0",
            "grid_template_areas": null,
            "object_position": null,
            "object_fit": null,
            "grid_auto_columns": null,
            "margin": null,
            "display": null,
            "left": null
          }
        },
        "6b97d7da9e0947de8509dcd5b19c77a4": {
          "model_module": "@jupyter-widgets/controls",
          "model_name": "FloatProgressModel",
          "state": {
            "_view_name": "ProgressView",
            "style": "IPY_MODEL_19e5aa8b8e4544efa4005427e1a01955",
            "_dom_classes": [],
            "description": "Downloading: 100%",
            "_model_name": "FloatProgressModel",
            "bar_style": "success",
            "max": 898823,
            "_view_module": "@jupyter-widgets/controls",
            "_model_module_version": "1.5.0",
            "value": 898823,
            "_view_count": null,
            "_view_module_version": "1.5.0",
            "orientation": "horizontal",
            "min": 0,
            "description_tooltip": null,
            "_model_module": "@jupyter-widgets/controls",
            "layout": "IPY_MODEL_0dd6ac8e84944f8b8fa8314e20202d76"
          }
        },
        "febc7b80019348d696a87273c9a51912": {
          "model_module": "@jupyter-widgets/controls",
          "model_name": "HTMLModel",
          "state": {
            "_view_name": "HTMLView",
            "style": "IPY_MODEL_a6250f58d7924c7cb89d2af578afa250",
            "_dom_classes": [],
            "description": "",
            "_model_name": "HTMLModel",
            "placeholder": "​",
            "_view_module": "@jupyter-widgets/controls",
            "_model_module_version": "1.5.0",
            "value": " 899k/899k [00:02&lt;00:00, 319kB/s]",
            "_view_count": null,
            "_view_module_version": "1.5.0",
            "description_tooltip": null,
            "_model_module": "@jupyter-widgets/controls",
            "layout": "IPY_MODEL_2521a4093cf04e92a114220edd4b9f5c"
          }
        },
        "19e5aa8b8e4544efa4005427e1a01955": {
          "model_module": "@jupyter-widgets/controls",
          "model_name": "ProgressStyleModel",
          "state": {
            "_view_name": "StyleView",
            "_model_name": "ProgressStyleModel",
            "description_width": "initial",
            "_view_module": "@jupyter-widgets/base",
            "_model_module_version": "1.5.0",
            "_view_count": null,
            "_view_module_version": "1.2.0",
            "bar_color": null,
            "_model_module": "@jupyter-widgets/controls"
          }
        },
        "0dd6ac8e84944f8b8fa8314e20202d76": {
          "model_module": "@jupyter-widgets/base",
          "model_name": "LayoutModel",
          "state": {
            "_view_name": "LayoutView",
            "grid_template_rows": null,
            "right": null,
            "justify_content": null,
            "_view_module": "@jupyter-widgets/base",
            "overflow": null,
            "_model_module_version": "1.2.0",
            "_view_count": null,
            "flex_flow": null,
            "width": null,
            "min_width": null,
            "border": null,
            "align_items": null,
            "bottom": null,
            "_model_module": "@jupyter-widgets/base",
            "top": null,
            "grid_column": null,
            "overflow_y": null,
            "overflow_x": null,
            "grid_auto_flow": null,
            "grid_area": null,
            "grid_template_columns": null,
            "flex": null,
            "_model_name": "LayoutModel",
            "justify_items": null,
            "grid_row": null,
            "max_height": null,
            "align_content": null,
            "visibility": null,
            "align_self": null,
            "height": null,
            "min_height": null,
            "padding": null,
            "grid_auto_rows": null,
            "grid_gap": null,
            "max_width": null,
            "order": null,
            "_view_module_version": "1.2.0",
            "grid_template_areas": null,
            "object_position": null,
            "object_fit": null,
            "grid_auto_columns": null,
            "margin": null,
            "display": null,
            "left": null
          }
        },
        "a6250f58d7924c7cb89d2af578afa250": {
          "model_module": "@jupyter-widgets/controls",
          "model_name": "DescriptionStyleModel",
          "state": {
            "_view_name": "StyleView",
            "_model_name": "DescriptionStyleModel",
            "description_width": "",
            "_view_module": "@jupyter-widgets/base",
            "_model_module_version": "1.5.0",
            "_view_count": null,
            "_view_module_version": "1.2.0",
            "_model_module": "@jupyter-widgets/controls"
          }
        },
        "2521a4093cf04e92a114220edd4b9f5c": {
          "model_module": "@jupyter-widgets/base",
          "model_name": "LayoutModel",
          "state": {
            "_view_name": "LayoutView",
            "grid_template_rows": null,
            "right": null,
            "justify_content": null,
            "_view_module": "@jupyter-widgets/base",
            "overflow": null,
            "_model_module_version": "1.2.0",
            "_view_count": null,
            "flex_flow": null,
            "width": null,
            "min_width": null,
            "border": null,
            "align_items": null,
            "bottom": null,
            "_model_module": "@jupyter-widgets/base",
            "top": null,
            "grid_column": null,
            "overflow_y": null,
            "overflow_x": null,
            "grid_auto_flow": null,
            "grid_area": null,
            "grid_template_columns": null,
            "flex": null,
            "_model_name": "LayoutModel",
            "justify_items": null,
            "grid_row": null,
            "max_height": null,
            "align_content": null,
            "visibility": null,
            "align_self": null,
            "height": null,
            "min_height": null,
            "padding": null,
            "grid_auto_rows": null,
            "grid_gap": null,
            "max_width": null,
            "order": null,
            "_view_module_version": "1.2.0",
            "grid_template_areas": null,
            "object_position": null,
            "object_fit": null,
            "grid_auto_columns": null,
            "margin": null,
            "display": null,
            "left": null
          }
        },
        "8eb4cca028a94e5d95813a6a829cda25": {
          "model_module": "@jupyter-widgets/controls",
          "model_name": "HBoxModel",
          "state": {
            "_view_name": "HBoxView",
            "_dom_classes": [],
            "_model_name": "HBoxModel",
            "_view_module": "@jupyter-widgets/controls",
            "_model_module_version": "1.5.0",
            "_view_count": null,
            "_view_module_version": "1.5.0",
            "box_style": "",
            "layout": "IPY_MODEL_4fb41c9fdbba4479857f87f9fe67b458",
            "_model_module": "@jupyter-widgets/controls",
            "children": [
              "IPY_MODEL_4c7da7dfcbb64684a4ad0f37f204d0d7",
              "IPY_MODEL_6abb62202f8c49b491b81d3dafede4dd"
            ]
          }
        },
        "4fb41c9fdbba4479857f87f9fe67b458": {
          "model_module": "@jupyter-widgets/base",
          "model_name": "LayoutModel",
          "state": {
            "_view_name": "LayoutView",
            "grid_template_rows": null,
            "right": null,
            "justify_content": null,
            "_view_module": "@jupyter-widgets/base",
            "overflow": null,
            "_model_module_version": "1.2.0",
            "_view_count": null,
            "flex_flow": null,
            "width": null,
            "min_width": null,
            "border": null,
            "align_items": null,
            "bottom": null,
            "_model_module": "@jupyter-widgets/base",
            "top": null,
            "grid_column": null,
            "overflow_y": null,
            "overflow_x": null,
            "grid_auto_flow": null,
            "grid_area": null,
            "grid_template_columns": null,
            "flex": null,
            "_model_name": "LayoutModel",
            "justify_items": null,
            "grid_row": null,
            "max_height": null,
            "align_content": null,
            "visibility": null,
            "align_self": null,
            "height": null,
            "min_height": null,
            "padding": null,
            "grid_auto_rows": null,
            "grid_gap": null,
            "max_width": null,
            "order": null,
            "_view_module_version": "1.2.0",
            "grid_template_areas": null,
            "object_position": null,
            "object_fit": null,
            "grid_auto_columns": null,
            "margin": null,
            "display": null,
            "left": null
          }
        },
        "4c7da7dfcbb64684a4ad0f37f204d0d7": {
          "model_module": "@jupyter-widgets/controls",
          "model_name": "FloatProgressModel",
          "state": {
            "_view_name": "ProgressView",
            "style": "IPY_MODEL_c42f283029f84574b1420c8c743e542d",
            "_dom_classes": [],
            "description": "Downloading: 100%",
            "_model_name": "FloatProgressModel",
            "bar_style": "success",
            "max": 456318,
            "_view_module": "@jupyter-widgets/controls",
            "_model_module_version": "1.5.0",
            "value": 456318,
            "_view_count": null,
            "_view_module_version": "1.5.0",
            "orientation": "horizontal",
            "min": 0,
            "description_tooltip": null,
            "_model_module": "@jupyter-widgets/controls",
            "layout": "IPY_MODEL_418d3e2260bd4703bbd0f0414bcb49cc"
          }
        },
        "6abb62202f8c49b491b81d3dafede4dd": {
          "model_module": "@jupyter-widgets/controls",
          "model_name": "HTMLModel",
          "state": {
            "_view_name": "HTMLView",
            "style": "IPY_MODEL_168b3f7519f941f7a0e87cb947608332",
            "_dom_classes": [],
            "description": "",
            "_model_name": "HTMLModel",
            "placeholder": "​",
            "_view_module": "@jupyter-widgets/controls",
            "_model_module_version": "1.5.0",
            "value": " 456k/456k [00:01&lt;00:00, 380kB/s]",
            "_view_count": null,
            "_view_module_version": "1.5.0",
            "description_tooltip": null,
            "_model_module": "@jupyter-widgets/controls",
            "layout": "IPY_MODEL_9e7edd4249c8476cac203c2f9abacdcf"
          }
        },
        "c42f283029f84574b1420c8c743e542d": {
          "model_module": "@jupyter-widgets/controls",
          "model_name": "ProgressStyleModel",
          "state": {
            "_view_name": "StyleView",
            "_model_name": "ProgressStyleModel",
            "description_width": "initial",
            "_view_module": "@jupyter-widgets/base",
            "_model_module_version": "1.5.0",
            "_view_count": null,
            "_view_module_version": "1.2.0",
            "bar_color": null,
            "_model_module": "@jupyter-widgets/controls"
          }
        },
        "418d3e2260bd4703bbd0f0414bcb49cc": {
          "model_module": "@jupyter-widgets/base",
          "model_name": "LayoutModel",
          "state": {
            "_view_name": "LayoutView",
            "grid_template_rows": null,
            "right": null,
            "justify_content": null,
            "_view_module": "@jupyter-widgets/base",
            "overflow": null,
            "_model_module_version": "1.2.0",
            "_view_count": null,
            "flex_flow": null,
            "width": null,
            "min_width": null,
            "border": null,
            "align_items": null,
            "bottom": null,
            "_model_module": "@jupyter-widgets/base",
            "top": null,
            "grid_column": null,
            "overflow_y": null,
            "overflow_x": null,
            "grid_auto_flow": null,
            "grid_area": null,
            "grid_template_columns": null,
            "flex": null,
            "_model_name": "LayoutModel",
            "justify_items": null,
            "grid_row": null,
            "max_height": null,
            "align_content": null,
            "visibility": null,
            "align_self": null,
            "height": null,
            "min_height": null,
            "padding": null,
            "grid_auto_rows": null,
            "grid_gap": null,
            "max_width": null,
            "order": null,
            "_view_module_version": "1.2.0",
            "grid_template_areas": null,
            "object_position": null,
            "object_fit": null,
            "grid_auto_columns": null,
            "margin": null,
            "display": null,
            "left": null
          }
        },
        "168b3f7519f941f7a0e87cb947608332": {
          "model_module": "@jupyter-widgets/controls",
          "model_name": "DescriptionStyleModel",
          "state": {
            "_view_name": "StyleView",
            "_model_name": "DescriptionStyleModel",
            "description_width": "",
            "_view_module": "@jupyter-widgets/base",
            "_model_module_version": "1.5.0",
            "_view_count": null,
            "_view_module_version": "1.2.0",
            "_model_module": "@jupyter-widgets/controls"
          }
        },
        "9e7edd4249c8476cac203c2f9abacdcf": {
          "model_module": "@jupyter-widgets/base",
          "model_name": "LayoutModel",
          "state": {
            "_view_name": "LayoutView",
            "grid_template_rows": null,
            "right": null,
            "justify_content": null,
            "_view_module": "@jupyter-widgets/base",
            "overflow": null,
            "_model_module_version": "1.2.0",
            "_view_count": null,
            "flex_flow": null,
            "width": null,
            "min_width": null,
            "border": null,
            "align_items": null,
            "bottom": null,
            "_model_module": "@jupyter-widgets/base",
            "top": null,
            "grid_column": null,
            "overflow_y": null,
            "overflow_x": null,
            "grid_auto_flow": null,
            "grid_area": null,
            "grid_template_columns": null,
            "flex": null,
            "_model_name": "LayoutModel",
            "justify_items": null,
            "grid_row": null,
            "max_height": null,
            "align_content": null,
            "visibility": null,
            "align_self": null,
            "height": null,
            "min_height": null,
            "padding": null,
            "grid_auto_rows": null,
            "grid_gap": null,
            "max_width": null,
            "order": null,
            "_view_module_version": "1.2.0",
            "grid_template_areas": null,
            "object_position": null,
            "object_fit": null,
            "grid_auto_columns": null,
            "margin": null,
            "display": null,
            "left": null
          }
        }
      }
    }
  },
  "cells": [
    {
      "cell_type": "markdown",
      "metadata": {
        "id": "yDuQJYxVk2zu"
      },
      "source": [
        "## 참고 소스코드 및 문헌\n",
        "### Hugging Face BERT Chris McCormick의 오픈소스 \n",
        "https://colab.research.google.com/drive/1PHv-IRLPCtv7oTcIGbsgZHqrB5LPvB7S#scrollTo=PGnlRWvkY-2c\n",
        "\n",
        "### 네이버 영화리뷰 감정분석 with Hugging Face BERT\n",
        "https://colab.research.google.com/drive/1Xs99-e4g6KS5Alu7z9CnrWX0J_f5HBsQ#scrollTo=muU2kS2GCh4y\n",
        "\n",
        "### Hugging Face Transformers 공식 library\n",
        "https://huggingface.co/transformers/_modules/transformers/models/electra/modeling_electra.html#ElectraModel 참고"
      ]
    },
    {
      "cell_type": "code",
      "metadata": {
        "colab": {
          "base_uri": "https://localhost:8080/"
        },
        "id": "_m7hzGcxAyhf",
        "outputId": "3b886a8f-b175-461e-9147-12956c8530d7"
      },
      "source": [
        "# 구글 드라이브의 디렉토리와 Colab을 연동\r\n",
        "from google.colab import drive\r\n",
        "drive.mount('/content/drive')"
      ],
      "execution_count": 7,
      "outputs": [
        {
          "output_type": "stream",
          "text": [
            "Mounted at /content/drive\n"
          ],
          "name": "stdout"
        }
      ]
    },
    {
      "cell_type": "code",
      "metadata": {
        "id": "Y2Ez8sMmBcTN",
        "colab": {
          "base_uri": "https://localhost:8080/"
        },
        "outputId": "b4d0019a-c00a-4be2-c658-7ac5554fa4e4"
      },
      "source": [
        "!ls drive/MyDrive/Friends"
      ],
      "execution_count": 8,
      "outputs": [
        {
          "output_type": "stream",
          "text": [
            "friends_dev.json  friends_test.json  friends_train.json\n"
          ],
          "name": "stdout"
        }
      ]
    },
    {
      "cell_type": "code",
      "metadata": {
        "id": "ywMejL1rgqqv",
        "colab": {
          "base_uri": "https://localhost:8080/"
        },
        "outputId": "04613bd2-4eb1-4c8a-a8cf-1330be03e251"
      },
      "source": [
        "!pip install transformers"
      ],
      "execution_count": 2,
      "outputs": [
        {
          "output_type": "stream",
          "text": [
            "Collecting transformers\n",
            "\u001b[?25l  Downloading https://files.pythonhosted.org/packages/50/0c/7d5950fcd80b029be0a8891727ba21e0cd27692c407c51261c3c921f6da3/transformers-4.1.1-py3-none-any.whl (1.5MB)\n",
            "\u001b[K     |████████████████████████████████| 1.5MB 14.2MB/s \n",
            "\u001b[?25hRequirement already satisfied: dataclasses; python_version < \"3.7\" in /usr/local/lib/python3.6/dist-packages (from transformers) (0.8)\n",
            "Collecting sacremoses\n",
            "\u001b[?25l  Downloading https://files.pythonhosted.org/packages/7d/34/09d19aff26edcc8eb2a01bed8e98f13a1537005d31e95233fd48216eed10/sacremoses-0.0.43.tar.gz (883kB)\n",
            "\u001b[K     |████████████████████████████████| 890kB 47.8MB/s \n",
            "\u001b[?25hRequirement already satisfied: requests in /usr/local/lib/python3.6/dist-packages (from transformers) (2.23.0)\n",
            "Requirement already satisfied: numpy in /usr/local/lib/python3.6/dist-packages (from transformers) (1.19.4)\n",
            "Collecting tokenizers==0.9.4\n",
            "\u001b[?25l  Downloading https://files.pythonhosted.org/packages/0f/1c/e789a8b12e28be5bc1ce2156cf87cb522b379be9cadc7ad8091a4cc107c4/tokenizers-0.9.4-cp36-cp36m-manylinux2010_x86_64.whl (2.9MB)\n",
            "\u001b[K     |████████████████████████████████| 2.9MB 47.1MB/s \n",
            "\u001b[?25hRequirement already satisfied: tqdm>=4.27 in /usr/local/lib/python3.6/dist-packages (from transformers) (4.41.1)\n",
            "Requirement already satisfied: filelock in /usr/local/lib/python3.6/dist-packages (from transformers) (3.0.12)\n",
            "Requirement already satisfied: regex!=2019.12.17 in /usr/local/lib/python3.6/dist-packages (from transformers) (2019.12.20)\n",
            "Requirement already satisfied: packaging in /usr/local/lib/python3.6/dist-packages (from transformers) (20.8)\n",
            "Requirement already satisfied: six in /usr/local/lib/python3.6/dist-packages (from sacremoses->transformers) (1.15.0)\n",
            "Requirement already satisfied: click in /usr/local/lib/python3.6/dist-packages (from sacremoses->transformers) (7.1.2)\n",
            "Requirement already satisfied: joblib in /usr/local/lib/python3.6/dist-packages (from sacremoses->transformers) (1.0.0)\n",
            "Requirement already satisfied: idna<3,>=2.5 in /usr/local/lib/python3.6/dist-packages (from requests->transformers) (2.10)\n",
            "Requirement already satisfied: chardet<4,>=3.0.2 in /usr/local/lib/python3.6/dist-packages (from requests->transformers) (3.0.4)\n",
            "Requirement already satisfied: certifi>=2017.4.17 in /usr/local/lib/python3.6/dist-packages (from requests->transformers) (2020.12.5)\n",
            "Requirement already satisfied: urllib3!=1.25.0,!=1.25.1,<1.26,>=1.21.1 in /usr/local/lib/python3.6/dist-packages (from requests->transformers) (1.24.3)\n",
            "Requirement already satisfied: pyparsing>=2.0.2 in /usr/local/lib/python3.6/dist-packages (from packaging->transformers) (2.4.7)\n",
            "Building wheels for collected packages: sacremoses\n",
            "  Building wheel for sacremoses (setup.py) ... \u001b[?25l\u001b[?25hdone\n",
            "  Created wheel for sacremoses: filename=sacremoses-0.0.43-cp36-none-any.whl size=893261 sha256=67d585fc7cbdf30e84c8c4659cf55f058c45df511c087120642afcebe2c9fbd5\n",
            "  Stored in directory: /root/.cache/pip/wheels/29/3c/fd/7ce5c3f0666dab31a50123635e6fb5e19ceb42ce38d4e58f45\n",
            "Successfully built sacremoses\n",
            "Installing collected packages: sacremoses, tokenizers, transformers\n",
            "Successfully installed sacremoses-0.0.43 tokenizers-0.9.4 transformers-4.1.1\n"
          ],
          "name": "stdout"
        }
      ]
    },
    {
      "cell_type": "code",
      "metadata": {
        "id": "O7eCLim_hMnx"
      },
      "source": [
        "import tensorflow as tf\n",
        "import torch\n",
        "import json\n",
        "import re\n",
        "import nltk\n",
        "from nltk.stem.wordnet import WordNetLemmatizer\n",
        "from nltk.corpus import stopwords\n",
        "\n",
        "from transformers import RobertaTokenizer, RobertaModel, RobertaForSequenceClassification, RobertaConfig, AdamW\n",
        "from transformers import get_linear_schedule_with_warmup\n",
        "from torch.utils.data import TensorDataset, DataLoader, RandomSampler, SequentialSampler\n",
        "from keras.preprocessing.sequence import pad_sequences\n",
        "from sklearn.model_selection import train_test_split\n",
        "from sklearn.utils import class_weight\n",
        "from sklearn.metrics import accuracy_score, recall_score, precision_score, f1_score\n",
        "\n",
        "import pandas as pd\n",
        "import numpy as np\n",
        "import random\n",
        "import time\n",
        "import datetime"
      ],
      "execution_count": 3,
      "outputs": []
    },
    {
      "cell_type": "markdown",
      "metadata": {
        "id": "TE8MX0QtUqFQ"
      },
      "source": [
        "#### nltk에서 불용어 리스트를 적어두었지만, 감성분석에서 부정형 단어 not, don't의 경우 중요한 의미를 지니는 것으로 판단 => nltk 불용어 리스트 일부 수정\r\n",
        "- 살리는 단어 : not, no, nor\r\n",
        "- 추가한 단어 : 2개 char이하 문자 등"
      ]
    },
    {
      "cell_type": "code",
      "metadata": {
        "id": "MCV6kRkRcr1y"
      },
      "source": [
        "# 단어 변경 함수\r\n",
        "def change_word(sen):\r\n",
        "  replace_tup = [('aren\\'t', 'are not'),\r\n",
        "                  ('couldn\\'t', 'could not'),\r\n",
        "                  ('didn\\'t', 'did not'),\r\n",
        "                  ('doesn\\'t', 'does not'),\r\n",
        "                  ('don\\'t', 'do not'),\r\n",
        "                  ('hadn\\'t', 'had not'),\r\n",
        "                  ('hasn\\'t', 'has not'),\r\n",
        "                  ('haven\\'t', 'have not'),\r\n",
        "                  ('isn\\'t', 'is not'),\r\n",
        "                  ('mightn\\'t', 'might not'),\r\n",
        "                  ('mustn\\'t', 'must not'),\r\n",
        "                  ('needn\\'t', 'need not'),\r\n",
        "                  ('shan\\'t', 'shall not'),\r\n",
        "                  ('shouldn\\'t', 'should not'),\r\n",
        "                  ('wasn\\'t', 'was not'),\r\n",
        "                  ('weren\\'t', 'were not'),\r\n",
        "                  ('won\\'t', 'will not')\r\n",
        "                 ]\r\n",
        "\r\n",
        "  for a,b in replace_tup : \r\n",
        "    if a in sen :\r\n",
        "     sen = re.sub(a,b,sen)\r\n",
        "  return sen"
      ],
      "execution_count": 4,
      "outputs": []
    },
    {
      "cell_type": "code",
      "metadata": {
        "id": "uxHNOv1YXE_h"
      },
      "source": [
        "# 불용어 리스트 - 대화의미를 가지는 단어는 남김, 극중 이름은 감성에 영향주지 않을것이라 판단 제거\r\n",
        "stop_lst=['Kate','Lauren','kate','lauren','Rachel','Ross','Phoebe',\"Chandler\",\"Joey\",\"Monica\",'rachel','ross','phoebe',\"chandler\",\"joey\",\"monica\",'i', 'me', 'my', 'myself', 'we', 'our', 'ours', 'ourselves', 'you','even', \"you're\", \"you've\", \"you'll\", \"you'd\", 'your', 'yours', 'yourself', 'yourselves', 'he', 'him', 'his', 'himself', 'she', \"she's\", 'her', 'hers', 'herself', 'it', \"it's\", 'its', 'itself', 'they', 'them', 'their', 'theirs', 'themselves', 'which', 'who', 'whom', 'this', 'that', \"that'll\", 'these', 'those', 'd', 'll', 'm', 'o', 're', 've', 'y', \"a\", \"b\", \"c\", \"d\", \"e\", \"f\", \"g\", \"h\", \"i\", \"j\", \"k\", \"l\", \"m\", \"n\", \"o\", \"p\",\r\n",
        "          \"q\", \"r\", \"s\", \"t\", \"u\", \"v\", \"w\", \"x\", \"y\", \"z\",\"A\", \"B\", \"C\", \"D\", \"E\", \"F\", \"G\", \"H\", \"I\", \"J\", \"K\", \"L\", \"M\", \"N\", \"O\", \"P\", \"Q\", \"R\", \"S\", \"T\", \"U\", \"V\", \"W\", \"X\", \"Y\", \"Z\",'co','op','0o', '0s', '3a', '3b', '3d', '6b', '6o', 'a1', 'a2', 'a3', 'a4', 'ab', 'ac', 'ad', 'ae', 'af', 'ag', 'aj', 'al', 'an', 'ao', 'ap', 'ar', 'av', 'aw', 'ax', 'ay', 'az', 'b1', 'b2', 'b3', 'ba', 'bc', 'bd', 'be', 'bi', 'bj', 'bk', 'bl', 'bn', 'bp', 'br', 'bs', 'bt', 'bu', 'bx', 'c1', 'c2', 'c3', 'cc', 'cd', 'ce', 'cf', 'cg', 'ch', 'ci', 'cj', 'cl', 'cm', 'cn', 'cp', 'cq', 'cr', 'cs', 'ct', 'cu', 'cv', 'cx', 'cy', 'cz', 'd2', 'da', 'dc', 'dd', 'de', 'df', 'di', 'dj', 'dk', 'dl', 'do', 'dp', 'dr', 'ds', 'dt', 'du', 'dx', 'dy', 'e2', 'e3', 'ea', 'ec', 'ed', 'ee', 'ef', 'ei', 'ej', 'el', 'em', 'en', 'eo', 'ep', 'eq', 'er', 'es', 'et', 'eu', 'ev', 'ex', 'ey', 'f2', 'fa', 'fc', 'ff', 'fi', 'fj', 'fl', 'fn', 'fo', 'fr', 'fs', 'ft', 'fu', 'fy', 'ga', 'ge', 'gi', 'gj', 'gl', 'go', 'gr', 'gs', 'gy', 'h2', 'h3', 'hh','hj', 'ho', 'hr', 'hs', 'hu', 'hy', 'i', 'i2', 'i3', 'i4', 'i6', 'i7', 'i8', 'ia', 'ib', 'ic', 'ie', 'ig', 'ih', 'ii', 'ij', 'il', 'in', 'io', 'ip', 'iq', 'ir', 'iv', 'ix', 'iy', 'iz', 'jj', 'jr', 'js', 'jt', 'ju', 'ke', 'kg', 'kj', 'km', 'ko', 'kl','gr','l2', 'la', 'lb', 'lc', 'lf', 'lj', 'ln', 'lo', 'lr', 'ls', 'lt', 'm2', 'ml', 'mn', 'mo', 'ms', 'mt', 'mu', 'n2', 'nc', 'nd', 'ne', 'ng', 'ni', 'nj', 'nl', 'nn', 'nr', 'ns', 'nt', 'ny', 'oa', 'ob', 'oc', 'od', 'of', 'og', 'oi', 'oj', 'ol', 'om', 'on', 'oo', 'oq', 'or', 'os', 'ot', 'ou', 'ow', 'ox', 'oz', 'p1', 'p2', 'p3', 'pc', 'pd', 'pe', 'pf', 'ph', 'pi', 'pj', 'pk', 'pl', 'pm', 'pn', 'po', 'pq', 'pr', 'ps', 'pt', 'pu', 'py', 'qj', 'qu', 'r2', 'ra', 'rc', 'rd', 'rf', 'rh', 'ri', 'rj', 'rl', 'rm', 'rn', 'ro', 'rq', 'rr', 'rs', 'rt', 'ru', 'rv', 'ry', 's2', 'sa', 'sc', 'sd', 'se', 'sf', 'si', 'sj', 'sl', 'sm', 'sn', 'sp', 'sq', 'sr', 'ss', 'st', 'sy', 'sz', 't1', 't2', 't3', 'tb', 'tc', 'td', 'te', 'tf', 'th', 'ti', 'tj', 'tl', 'tm', 'tn', 'tp', 'tq', 'tr', 'ts', 'tt', 'tv', 'tx', 'ue', 'ui', 'uj', 'uk', 'um', 'un', 'uo', 'ur', 'ut', 'va', 'wa', 'vd', 'wi', 'vj', 'vo', 'wo', 'vq', 'vt', 'vu', 'x1', 'x2', 'x3', 'xf', 'xi', 'xj', 'xk', 'xl', 'xn', 'xo', 'xs', 'xt', 'xv', 'xx', 'y2', 'yj', 'yl', 'yr', 'ys', 'yt', 'zi', 'zz']"
      ],
      "execution_count": 5,
      "outputs": []
    },
    {
      "cell_type": "code",
      "metadata": {
        "id": "YAjG7VqeJG7R",
        "colab": {
          "base_uri": "https://localhost:8080/"
        },
        "outputId": "bf8b4674-1f17-4ac9-a530-8cc3c31fe8c6"
      },
      "source": [
        "with open('drive/MyDrive/Friends/friends_train.json') as json_file:\r\n",
        "    json_train = json.load(json_file)\r\n",
        "with open('drive/MyDrive/Friends/friends_test.json') as json_file:\r\n",
        "    json_test = json.load(json_file)\r\n",
        "with open('drive/MyDrive/Friends/friends_dev.json') as json_file:\r\n",
        "    json_dev = json.load(json_file)\r\n",
        "\r\n",
        "nltk.download('wordnet')\r\n",
        "lemmatizer = WordNetLemmatizer()\r\n",
        "\r\n",
        "def preprocess(str):\r\n",
        "    replaceAll = str\r\n",
        "    replaceAll = re.sub('\\u0092','\\'',replaceAll) # 어퍼트로스피 살리기\r\n",
        "    replaceAll = change_word(replaceAll) # 부정형 단어 바꾸기\r\n",
        "    only_english = re.sub('[^a-zA-Z?!]', ' ', replaceAll) # 영어문자와 느낌표 물음표 남기기 => 시트콤에서 물음표, 느낌표는 감성에서 중요할 것으로 판단\r\n",
        "    only_english = re.sub('\\?', ' ?', only_english)\r\n",
        "    only_english = re.sub('\\!', ' !', only_english)\r\n",
        "    no_capitals = only_english.lower().split()\r\n",
        "    no_stops = [word for word in no_capitals if not word in stop_lst] # 불용어 제거\r\n",
        "    lemma_words = [lemmatizer.lemmatize(word) for word in no_stops] # 어근의 의미를 파악할 수 있는 lemma진행(stemming대신)\r\n",
        "    return ' '.join(lemma_words)\r\n",
        "\r\n",
        "train_data=[]\r\n",
        "val_data=[]\r\n",
        "test_data=[]\r\n",
        "\r\n",
        "for rows in json_train:\r\n",
        "    for row in rows:\r\n",
        "        train_data.append([preprocess(row['utterance']), row['emotion']])\r\n",
        "for rows in json_dev:\r\n",
        "    for row in rows:\r\n",
        "        val_data.append([preprocess(row['utterance']), row['emotion']])\r\n",
        "for rows in json_test:\r\n",
        "    for row in rows:\r\n",
        "        test_data.append([preprocess(row['utterance']), row['emotion']])"
      ],
      "execution_count": 9,
      "outputs": [
        {
          "output_type": "stream",
          "text": [
            "[nltk_data] Downloading package wordnet to /root/nltk_data...\n",
            "[nltk_data]   Unzipping corpora/wordnet.zip.\n"
          ],
          "name": "stdout"
        }
      ]
    },
    {
      "cell_type": "code",
      "metadata": {
        "id": "Uu4ffPL3lugC"
      },
      "source": [
        "# 훈련셋 / 테스트셋 로드\n",
        "train_data = pd.DataFrame(train_data, columns=['document','emotion'])\n",
        "val_data = pd.DataFrame(val_data, columns=['document','emotion'])\n",
        "test_data = pd.DataFrame(test_data, columns=['document','emotion'])"
      ],
      "execution_count": 10,
      "outputs": []
    },
    {
      "cell_type": "code",
      "metadata": {
        "id": "cvqB3y1085xs"
      },
      "source": [
        "def label_ch(str):\r\n",
        "  return {'non-neutral': 0,\r\n",
        "            'neutral': 1, \r\n",
        "            'joy': 2,\r\n",
        "            'sadness': 3,\r\n",
        "            'fear': 4,\r\n",
        "            'anger': 5,\r\n",
        "            'surprise': 6,\r\n",
        "            'disgust': 7}[str]\r\n",
        "\r\n",
        "def convert_emotion(data) :\r\n",
        "  label_lst = [label_ch(i) for i in data['emotion']]\r\n",
        "  label_pd = pd.DataFrame(label_lst,columns=['label'])\r\n",
        "  data = pd.concat([data, label_pd],axis=1)\r\n",
        "  return data"
      ],
      "execution_count": 11,
      "outputs": []
    },
    {
      "cell_type": "code",
      "metadata": {
        "id": "pHOyTBOj-PYf"
      },
      "source": [
        "train_data = convert_emotion(train_data)\r\n",
        "val_data = convert_emotion(val_data)\r\n",
        "test_data = convert_emotion(test_data)"
      ],
      "execution_count": 12,
      "outputs": []
    },
    {
      "cell_type": "code",
      "metadata": {
        "colab": {
          "base_uri": "https://localhost:8080/"
        },
        "id": "hXq6Bd8p3zsp",
        "outputId": "b5a9cbd3-a809-4c3d-cca7-c4dc723635d8"
      },
      "source": [
        "# 150,000 훈련셋 / 50,000 테스트셋\n",
        "print(train_data.shape)\n",
        "print(val_data.shape)\n",
        "print(test_data.shape)"
      ],
      "execution_count": 13,
      "outputs": [
        {
          "output_type": "stream",
          "text": [
            "(10561, 3)\n",
            "(1178, 3)\n",
            "(2764, 3)\n"
          ],
          "name": "stdout"
        }
      ]
    },
    {
      "cell_type": "code",
      "metadata": {
        "id": "ox-Xd9OgmSXV"
      },
      "source": [
        "# 문장, label 추출\n",
        "sen_train = train_data['document']\n",
        "labels_train = train_data['label'].values\n",
        "\n",
        "sen_val = val_data['document']\n",
        "labels_val = val_data['label'].values\n",
        "\n",
        "sen_test = test_data['document']\n",
        "labels_test = test_data['label'].values"
      ],
      "execution_count": 14,
      "outputs": []
    },
    {
      "cell_type": "markdown",
      "metadata": {
        "id": "2WueBuKb25Tb"
      },
      "source": [
        "### Electra baseline 모델 구축"
      ]
    },
    {
      "cell_type": "code",
      "metadata": {
        "id": "lJRDih2H2qwG"
      },
      "source": [
        "# BERT input 형식으로 변환\n",
        "# Freinds 문장이 하나인 것이 대부분\n",
        "sen_bert_train = []\n",
        "for i in sen_train:\n",
        "  x = \"<s> \" + str(i) + \"</s>\"\n",
        "  sen_bert_train.append(x)\n",
        "\n",
        "sen_bert_val = []\n",
        "for i in sen_val:\n",
        "  x = \"<s> \" + str(i) + \"</s>\"\n",
        "  sen_bert_val.append(x)\n",
        "\n",
        "sen_bert_test = []\n",
        "for i in sen_test:\n",
        "  x = \"<s> \" + str(i) + \"</s>\"\n",
        "  sen_bert_test.append(x)"
      ],
      "execution_count": 15,
      "outputs": []
    },
    {
      "cell_type": "code",
      "metadata": {
        "id": "FNHlBjHM3q8S",
        "colab": {
          "base_uri": "https://localhost:8080/",
          "height": 117,
          "referenced_widgets": [
            "034463ec4b8b4a5ebf577166db6dfdcf",
            "66e995ddf8324277931332bed86a6b11",
            "6b97d7da9e0947de8509dcd5b19c77a4",
            "febc7b80019348d696a87273c9a51912",
            "19e5aa8b8e4544efa4005427e1a01955",
            "0dd6ac8e84944f8b8fa8314e20202d76",
            "a6250f58d7924c7cb89d2af578afa250",
            "2521a4093cf04e92a114220edd4b9f5c",
            "8eb4cca028a94e5d95813a6a829cda25",
            "4fb41c9fdbba4479857f87f9fe67b458",
            "4c7da7dfcbb64684a4ad0f37f204d0d7",
            "6abb62202f8c49b491b81d3dafede4dd",
            "c42f283029f84574b1420c8c743e542d",
            "418d3e2260bd4703bbd0f0414bcb49cc",
            "168b3f7519f941f7a0e87cb947608332",
            "9e7edd4249c8476cac203c2f9abacdcf"
          ]
        },
        "outputId": "f55db3b6-3c89-47bd-ec48-0bae9763082e"
      },
      "source": [
        "# Electra 토크나이저로 문장 토큰 분리\n",
        "tokenizer = RobertaTokenizer.from_pretrained('roberta-base', do_lower_case=False) # roberta의 경우 sentencepiece tokenizer 사용\n",
        "tokenized_texts_train = [tokenizer.tokenize(sent) for sent in sen_bert_train]\n",
        "tokenized_texts_val = [tokenizer.tokenize(sent) for sent in sen_bert_val]\n",
        "tokenized_texts_test = [tokenizer.tokenize(sent) for sent in sen_bert_test]"
      ],
      "execution_count": 16,
      "outputs": [
        {
          "output_type": "display_data",
          "data": {
            "application/vnd.jupyter.widget-view+json": {
              "model_id": "034463ec4b8b4a5ebf577166db6dfdcf",
              "version_minor": 0,
              "version_major": 2
            },
            "text/plain": [
              "HBox(children=(FloatProgress(value=0.0, description='Downloading', max=898823.0, style=ProgressStyle(descripti…"
            ]
          },
          "metadata": {
            "tags": []
          }
        },
        {
          "output_type": "stream",
          "text": [
            "\n"
          ],
          "name": "stdout"
        },
        {
          "output_type": "display_data",
          "data": {
            "application/vnd.jupyter.widget-view+json": {
              "model_id": "8eb4cca028a94e5d95813a6a829cda25",
              "version_minor": 0,
              "version_major": 2
            },
            "text/plain": [
              "HBox(children=(FloatProgress(value=0.0, description='Downloading', max=456318.0, style=ProgressStyle(descripti…"
            ]
          },
          "metadata": {
            "tags": []
          }
        },
        {
          "output_type": "stream",
          "text": [
            "\n"
          ],
          "name": "stdout"
        }
      ]
    },
    {
      "cell_type": "code",
      "metadata": {
        "colab": {
          "base_uri": "https://localhost:8080/"
        },
        "id": "VQutqTNy7rS1",
        "outputId": "b34baaa3-481a-418a-ec0e-e0258e147c8e"
      },
      "source": [
        "tokenizer.tokenize(sen_bert_train[14])"
      ],
      "execution_count": 17,
      "outputs": [
        {
          "output_type": "execute_result",
          "data": {
            "text/plain": [
              "['<s>',\n",
              " 'Ġbut',\n",
              " 'Ġthen',\n",
              " 'Ġ?',\n",
              " 'Ġthe',\n",
              " 'Ġwaitress',\n",
              " 'Ġwent',\n",
              " 'Ġout',\n",
              " 'Ġwith',\n",
              " 'Ġlast',\n",
              " 'Ġmonth',\n",
              " 'Ġ?',\n",
              " '</s>']"
            ]
          },
          "metadata": {
            "tags": []
          },
          "execution_count": 17
        }
      ]
    },
    {
      "cell_type": "code",
      "metadata": {
        "colab": {
          "base_uri": "https://localhost:8080/"
        },
        "id": "0CJEGcAR-TIQ",
        "outputId": "c729c744-a644-4b70-c9ca-4ceee602b0ea"
      },
      "source": [
        "print(tokenizer.all_special_ids)\r\n",
        "print(tokenizer.all_special_tokens)"
      ],
      "execution_count": 18,
      "outputs": [
        {
          "output_type": "stream",
          "text": [
            "[0, 2, 3, 2, 1, 0, 50264]\n",
            "['<s>', '</s>', '<unk>', '</s>', '<pad>', '<s>', '<mask>']\n"
          ],
          "name": "stdout"
        }
      ]
    },
    {
      "cell_type": "code",
      "metadata": {
        "id": "T2QBFvMpECF3",
        "colab": {
          "base_uri": "https://localhost:8080/"
        },
        "outputId": "1efa84a3-a641-4de6-aaee-b5c17a477bb5"
      },
      "source": [
        "# vocab size : 50265\n",
        "tokenizer.vocab_size"
      ],
      "execution_count": 19,
      "outputs": [
        {
          "output_type": "execute_result",
          "data": {
            "text/plain": [
              "50265"
            ]
          },
          "metadata": {
            "tags": []
          },
          "execution_count": 19
        }
      ]
    },
    {
      "cell_type": "code",
      "metadata": {
        "id": "mNh2xjqA7C4x",
        "colab": {
          "base_uri": "https://localhost:8080/"
        },
        "outputId": "c882e967-834f-4dcc-9877-093343f364c1"
      },
      "source": [
        "# 입력 토큰의 최대 시퀀스 길이 찾기\n",
        "sen_len = [len(sen) for sen in sen_bert_val]\n",
        "max(sen_len)"
      ],
      "execution_count": 20,
      "outputs": [
        {
          "output_type": "execute_result",
          "data": {
            "text/plain": [
              "156"
            ]
          },
          "metadata": {
            "tags": []
          },
          "execution_count": 20
        }
      ]
    },
    {
      "cell_type": "code",
      "metadata": {
        "id": "m-OrwkOJ9WMh"
      },
      "source": [
        "import matplotlib.pyplot as plt\n",
        "%matplotlib inline"
      ],
      "execution_count": 21,
      "outputs": []
    },
    {
      "cell_type": "code",
      "metadata": {
        "id": "vTTjml2m-EkG",
        "colab": {
          "base_uri": "https://localhost:8080/",
          "height": 283
        },
        "outputId": "2f56214a-8c29-4d96-cabd-ba090c830cd4"
      },
      "source": [
        "plt.plot(sen_len)"
      ],
      "execution_count": 22,
      "outputs": [
        {
          "output_type": "execute_result",
          "data": {
            "text/plain": [
              "[<matplotlib.lines.Line2D at 0x7feceb146d30>]"
            ]
          },
          "metadata": {
            "tags": []
          },
          "execution_count": 22
        },
        {
          "output_type": "display_data",
          "data": {
            "image/png": "[encoded data removed]",
            "text/plain": [
              "<Figure size 432x288 with 1 Axes>"
            ]
          },
          "metadata": {
            "tags": [],
            "needs_background": "light"
          }
        }
      ]
    },
    {
      "cell_type": "code",
      "metadata": {
        "id": "XwcoZ93R-HNs"
      },
      "source": [
        "# 토큰의 최대 시퀀스 길이\n",
        "MAX_LEN = 128 # 대부분 128 미만\n",
        "\n",
        "# 토큰을 숫자 인덱스로 변환\n",
        "input_ids_train = [tokenizer.convert_tokens_to_ids(x) for x in tokenized_texts_train]\n",
        "input_ids_val = [tokenizer.convert_tokens_to_ids(x) for x in tokenized_texts_val]\n",
        "input_ids_test = [tokenizer.convert_tokens_to_ids(x) for x in tokenized_texts_test]\n",
        "# 문장을 MAX_LEN 길이에 맞게 자르고, 모자란 부분을 패딩 0으로 채움\n",
        "input_ids_train = pad_sequences(input_ids_train, maxlen=MAX_LEN, dtype=\"long\", truncating=\"post\", padding=\"post\", value=1.0) #roberta padding은 1\n",
        "input_ids_val = pad_sequences(input_ids_val, maxlen=MAX_LEN, dtype=\"long\", truncating=\"post\", padding=\"post\", value=1.0)\n",
        "input_ids_test = pad_sequences(input_ids_test, maxlen=MAX_LEN, dtype=\"long\", truncating=\"post\", padding=\"post\", value=1.0)"
      ],
      "execution_count": 23,
      "outputs": []
    },
    {
      "cell_type": "code",
      "metadata": {
        "id": "3RPTMXWAR-1O"
      },
      "source": [
        "# Map the token strings to their vocabulary indeces.\n",
        "indexed_tokens = tokenizer.convert_tokens_to_ids(tokenized_texts_train[0])\n",
        "\n",
        "# Display the words with their indeces.\n",
        "for i in range(10):\n",
        "  for tup in zip(tokenized_texts_train[i], input_ids_train[i]):\n",
        "    print((tup[0], tup[1]))"
      ],
      "execution_count": null,
      "outputs": []
    },
    {
      "cell_type": "code",
      "metadata": {
        "id": "fAeJFeWf-wCr"
      },
      "source": [
        "# 패딩 부분은 BERT 모델에서 어텐션을 수행하지 않아 속도 향상\n",
        "\n",
        "# 어텐션 마스크 초기화\n",
        "attention_masks_train = []\n",
        "attention_masks_val = []\n",
        "attention_masks_test = []\n",
        "\n",
        "# 어텐션 마스크를 패딩이 아니면 1, 패딩이면 0으로 설정\n",
        "for seq in input_ids_train:\n",
        "    seq_mask = [float(i!=1) for i in seq]\n",
        "    attention_masks_train.append(seq_mask)\n",
        "\n",
        "for seq in input_ids_val:\n",
        "    seq_mask = [float(i!=1) for i in seq]\n",
        "    attention_masks_val.append(seq_mask)\n",
        "\n",
        "for seq in input_ids_test:\n",
        "    seq_mask = [float(i!=1) for i in seq]\n",
        "    attention_masks_test.append(seq_mask)"
      ],
      "execution_count": 25,
      "outputs": []
    },
    {
      "cell_type": "code",
      "metadata": {
        "id": "90eU3UTLAEyv"
      },
      "source": [
        "# 파이토치의 텐서로 변환\n",
        "# train, validaiton set\n",
        "train_inputs = torch.tensor(input_ids_train)\n",
        "train_labels = torch.tensor(labels_train)\n",
        "train_masks = torch.tensor(attention_masks_train)\n",
        "validation_inputs = torch.tensor(input_ids_val)\n",
        "validation_labels = torch.tensor(labels_val)\n",
        "validation_masks = torch.tensor(attention_masks_val)\n",
        "\n",
        "# test set\n",
        "test_inputs = torch.tensor(input_ids_test)\n",
        "test_labels = torch.tensor(labels_test)\n",
        "test_masks = torch.tensor(attention_masks_test)"
      ],
      "execution_count": 26,
      "outputs": []
    },
    {
      "cell_type": "code",
      "metadata": {
        "id": "YjHJRBXRBB7Y"
      },
      "source": [
        "# 배치 사이즈\n",
        "batch_size = 32\n",
        "\n",
        "# 파이토치의 DataLoader로 입력, 마스크, 라벨을 묶어 데이터 설정\n",
        "# 학습시 배치 사이즈 만큼 데이터를 가져옴\n",
        "train_tensor = TensorDataset(train_inputs, train_masks, train_labels)\n",
        "train_sampler = RandomSampler(train_tensor)\n",
        "train_dataloader = DataLoader(train_tensor, sampler=train_sampler, batch_size=batch_size)\n",
        "\n",
        "validation_tensor = TensorDataset(validation_inputs, validation_masks, validation_labels)\n",
        "validation_sampler = SequentialSampler(validation_tensor)\n",
        "validation_dataloader = DataLoader(validation_tensor, sampler=validation_sampler, batch_size=batch_size)\n",
        "\n",
        "test_data = TensorDataset(test_inputs, test_masks, test_labels)\n",
        "test_sampler = RandomSampler(test_data)\n",
        "test_dataloader = DataLoader(test_data, sampler=test_sampler, batch_size=batch_size)"
      ],
      "execution_count": 27,
      "outputs": []
    },
    {
      "cell_type": "markdown",
      "metadata": {
        "id": "N4eQlA3GB0tu"
      },
      "source": [
        "### 모델생성"
      ]
    },
    {
      "cell_type": "code",
      "metadata": {
        "id": "zDY0kbboB0VB",
        "colab": {
          "base_uri": "https://localhost:8080/"
        },
        "outputId": "3f13669a-6006-475c-9a76-7459805c23b3"
      },
      "source": [
        "# GPU 사용 확인\n",
        "!nvidia-smi"
      ],
      "execution_count": 28,
      "outputs": [
        {
          "output_type": "stream",
          "text": [
            "Sat Dec 19 09:25:58 2020       \n",
            "+-----------------------------------------------------------------------------+\n",
            "| NVIDIA-SMI 455.45.01    Driver Version: 418.67       CUDA Version: 10.1     |\n",
            "|-------------------------------+----------------------+----------------------+\n",
            "| GPU  Name        Persistence-M| Bus-Id        Disp.A | Volatile Uncorr. ECC |\n",
            "| Fan  Temp  Perf  Pwr:Usage/Cap|         Memory-Usage | GPU-Util  Compute M. |\n",
            "|                               |                      |               MIG M. |\n",
            "|===============================+======================+======================|\n",
            "|   0  Tesla P4            Off  | 00000000:00:04.0 Off |                    0 |\n",
            "| N/A   38C    P8     7W /  75W |     10MiB /  7611MiB |      0%      Default |\n",
            "|                               |                      |                 ERR! |\n",
            "+-------------------------------+----------------------+----------------------+\n",
            "                                                                               \n",
            "+-----------------------------------------------------------------------------+\n",
            "| Processes:                                                                  |\n",
            "|  GPU   GI   CI        PID   Type   Process name                  GPU Memory |\n",
            "|        ID   ID                                                   Usage      |\n",
            "|=============================================================================|\n",
            "|  No running processes found                                                 |\n",
            "+-----------------------------------------------------------------------------+\n"
          ],
          "name": "stdout"
        }
      ]
    },
    {
      "cell_type": "code",
      "metadata": {
        "colab": {
          "base_uri": "https://localhost:8080/"
        },
        "id": "9-OBgjY7EV5C",
        "outputId": "11ad792a-aca6-450a-b909-ca1ba15f20c8"
      },
      "source": [
        "# 디바이스 설정\n",
        "if torch.cuda.is_available():    \n",
        "    device = torch.device(\"cuda\")\n",
        "    print('There are %d GPU(s) available.' % torch.cuda.device_count())\n",
        "    print('We will use the GPU:', torch.cuda.get_device_name(0))\n",
        "else:\n",
        "    device = torch.device(\"cpu\")\n",
        "    print('No GPU available, using the CPU instead.')"
      ],
      "execution_count": 29,
      "outputs": [
        {
          "output_type": "stream",
          "text": [
            "There are 1 GPU(s) available.\n",
            "We will use the GPU: Tesla P4\n"
          ],
          "name": "stdout"
        }
      ]
    },
    {
      "cell_type": "code",
      "metadata": {
        "id": "zOzJY1WuBv3C"
      },
      "source": [
        "# 분류 BERT 모델 생성\n",
        "config = RobertaConfig.from_pretrained('roberta-base',\n",
        "                                    hidden_dropout_prob=0.1,\n",
        "                                    attention_probs_dropout_prob=0.1,\n",
        "                                    num_labels=8\n",
        "                                    )\n",
        "model = RobertaForSequenceClassification.from_pretrained('roberta-base', config=config)\n",
        "model.cuda() # gpu 사용"
      ],
      "execution_count": null,
      "outputs": []
    },
    {
      "cell_type": "code",
      "metadata": {
        "id": "UJ-NRNtzEEOM"
      },
      "source": [
        "# model.config"
      ],
      "execution_count": 32,
      "outputs": []
    },
    {
      "cell_type": "code",
      "metadata": {
        "id": "iEem5B1bDXs9"
      },
      "source": [
        "# 옵티마이저 설정\n",
        "optimizer = AdamW(model.parameters(),\n",
        "                  lr = 2e-5, # 학습률\n",
        "                  eps = 1e-8 # 0으로 나누는 것을 방지하기 위한 epsilon 값\n",
        "                )\n",
        "\n",
        "# 에폭수\n",
        "epochs = 6\n",
        "\n",
        "# 총 훈련 스텝 : 배치반복 횟수 * 에폭\n",
        "total_steps = len(train_dataloader) * epochs\n",
        "\n",
        "# 처음에 학습률을 조금씩 변화시키는 스케줄러 생성\n",
        "scheduler = get_linear_schedule_with_warmup(optimizer, \n",
        "                                            num_warmup_steps = 0,\n",
        "                                            num_training_steps = total_steps)\n",
        "# 손실함수 설정; softmax와 cross-entropy를 합쳐놓은 것\n",
        "# weights = torch.tensor(class_weights).to(device, dtype= torch.float32)\n",
        "loss_fn = torch.nn.CrossEntropyLoss().to(device)"
      ],
      "execution_count": 33,
      "outputs": []
    },
    {
      "cell_type": "code",
      "metadata": {
        "id": "1vxkh-RcEiSC"
      },
      "source": [
        "# 정확도 계산 함수\n",
        "def flat_accuracy(preds, labels):\n",
        "    \n",
        "    pred_flat = np.argmax(preds, axis=1).flatten() #argmax는 index출력\n",
        "    labels_flat = labels.flatten()\n",
        "\n",
        "    return np.sum(pred_flat == labels_flat) / len(labels_flat)\n",
        "\n",
        "# 시간 표시 함수\n",
        "def format_time(elapsed):\n",
        "\n",
        "    # 반올림\n",
        "    elapsed_rounded = int(round((elapsed)))\n",
        "    \n",
        "    # hh:mm:ss으로 형태 변경\n",
        "    return str(datetime.timedelta(seconds=elapsed_rounded))"
      ],
      "execution_count": 34,
      "outputs": []
    },
    {
      "cell_type": "code",
      "metadata": {
        "id": "Z5JE6g0uFfKl"
      },
      "source": [
        "# 그래디언트 초기화\n",
        "model.zero_grad()\n",
        "\n",
        "pre_avg_val_loss = 1\n",
        "\n",
        "# 에폭만큼 반복\n",
        "for epoch_i in range(0, epochs):\n",
        "    \n",
        "    # ========================================\n",
        "    #               Training\n",
        "    # ========================================\n",
        "    \n",
        "    print(\"\")\n",
        "    print('======== Epoch {:} / {:} ========'.format(epoch_i + 1, epochs))\n",
        "    print('Training...')\n",
        "\n",
        "    # 시작 시간 설정\n",
        "    t0 = time.time()\n",
        "\n",
        "    # 로스 초기화\n",
        "    total_loss = 0\n",
        "    val_total_loss = 0\n",
        "\n",
        "    # 훈련모드로 변경\n",
        "    model.train()\n",
        "        \n",
        "    # 데이터로더에서 배치만큼 반복하여 가져옴 - 배치사이즈가 클 경우 out of memory 문제\n",
        "    for step, batch in enumerate(train_dataloader):\n",
        "        # 단순 경과 정보 표시, 실제 BERT학습은 32 batch size씩\n",
        "        if step % 100 == 0 and not step == 0:\n",
        "            elapsed = format_time(time.time() - t0)\n",
        "            print('  Step {:>5,}  of  {:>5,}.    Elapsed: {:}.'.format(step, len(train_dataloader), elapsed))\n",
        "\n",
        "        # 배치를 GPU에 넣음\n",
        "        batch = tuple(t.to(device) for t in batch)\n",
        "        \n",
        "        # 배치에서 데이터 추출\n",
        "        b_input_ids, b_input_mask, b_labels = batch\n",
        "\n",
        "        # Forward 수행                \n",
        "        outputs = model(b_input_ids, \n",
        "                        token_type_ids=None, \n",
        "                        attention_mask=b_input_mask)\n",
        "        \n",
        "        loss = loss_fn(outputs.logits, b_labels) # logits; loss_fn이 softmax 자동수행\n",
        "\n",
        "        # 총 로스 계산\n",
        "        total_loss += loss.item()\n",
        "\n",
        "        # Backward 수행으로 그래디언트 계산\n",
        "        loss.backward()\n",
        "\n",
        "        # 그래디언트 클리핑\n",
        "        torch.nn.utils.clip_grad_norm_(model.parameters(), 1.0)\n",
        "\n",
        "        # 그래디언트를 통해 가중치 파라미터 업데이트\n",
        "        optimizer.step()\n",
        "\n",
        "        # 스케줄러로 학습률 감소\n",
        "        scheduler.step()\n",
        "\n",
        "        # 그래디언트 초기화\n",
        "        model.zero_grad()\n",
        "\n",
        "    # 평균 로스 계산\n",
        "    avg_train_loss = total_loss / len(train_dataloader)            \n",
        "\n",
        "    print(\"\")\n",
        "    print(\"  Average training loss: {0:.4f}\".format(avg_train_loss))\n",
        "    print(\"  Training epcoh took: {:}\".format(format_time(time.time() - t0)))\n",
        "        \n",
        "    # ========================================\n",
        "    #               Validation\n",
        "    # ========================================\n",
        "\n",
        "    print(\"\")\n",
        "    print(\"Running Validation...\")\n",
        "\n",
        "    #시작 시간 설정\n",
        "    t0 = time.time()\n",
        "\n",
        "    # 평가모드로 변경\n",
        "    model.eval()\n",
        "\n",
        "    # 변수 초기화\n",
        "    val_loss, eval_accuracy,eval_f1 = 0, 0, 0\n",
        "    nb_eval_steps, nb_eval_examples = 0, 0\n",
        "\n",
        "    # 데이터로더에서 배치만큼 반복하여 가져옴\n",
        "    for batch in validation_dataloader:\n",
        "        # 배치를 GPU에 넣음\n",
        "        batch = tuple(t.to(device) for t in batch)\n",
        "        \n",
        "        # 배치에서 데이터 추출\n",
        "        b_input_ids, b_input_mask, b_labels = batch\n",
        "        \n",
        "        # 그래디언트 계산 안함\n",
        "        with torch.no_grad():     \n",
        "            # Forward 수행\n",
        "            outputs = model(b_input_ids, \n",
        "                            token_type_ids=None, \n",
        "                            attention_mask=b_input_mask)\n",
        "            \n",
        "        # val loss 계산\n",
        "        val_loss = loss_fn(outputs.logits, b_labels)\n",
        "        val_total_loss += val_loss.item()\n",
        "\n",
        "        # 로짓 구함; 최종 신경망 레이아웃\n",
        "        logits = outputs.logits\n",
        "\n",
        "        # CPU로 데이터 이동\n",
        "        logits = logits.detach().cpu().numpy()\n",
        "        label_ids = b_labels.to('cpu').numpy()\n",
        "        \n",
        "        # 출력 로짓과 라벨을 비교하여 정확도 계산\n",
        "        tmp_eval_accuracy = flat_accuracy(logits, label_ids)\n",
        "        eval_accuracy += tmp_eval_accuracy\n",
        "        nb_eval_steps += 1\n",
        "\n",
        "        # f1-score 계산\n",
        "        tmp_eval_f1 = f1_score(label_ids, np.argmax(logits, axis=1).flatten(), average = 'weighted')\n",
        "        eval_f1 += tmp_eval_f1\n",
        "\n",
        "\n",
        "    # 평균 로스 계산\n",
        "    avg_val_loss = val_total_loss / len(validation_dataloader)\n",
        "\n",
        "    print(\"  Average validation loss: {0:.4f}\".format(avg_val_loss))\n",
        "    print(\"  Accuracy: {0:.4f}\".format(eval_accuracy / nb_eval_steps))\n",
        "    print(\"  f1-score: {0:.4f}\".format(eval_f1 / nb_eval_steps))\n",
        "    print(\"  Validation took: {:}\".format(format_time(time.time() - t0)))\n",
        "\n",
        "    if avg_val_loss < pre_avg_val_loss:\n",
        "        torch.save(model.state_dict(), 'drive/MyDrive/Friends_roberta_state_dict_v4_best.pt')\n",
        "        print(\" validation loss update\")\n",
        "\n",
        "    pre_avg_val_loss = avg_val_loss\n",
        "\n",
        "print(\"\")\n",
        "print(\"Training complete!\")"
      ],
      "execution_count": null,
      "outputs": []
    },
    {
      "cell_type": "code",
      "metadata": {
        "id": "SHdC_X-fU0iq"
      },
      "source": [
        "model.load_state_dict(torch.load('drive/MyDrive/Friends_roberta_state_dict_v4_best.pt'))  # state_dict를 불러 온 후, 모델에 저장"
      ],
      "execution_count": null,
      "outputs": []
    },
    {
      "cell_type": "markdown",
      "metadata": {
        "id": "xc8HXjYQ5wuC"
      },
      "source": [
        "### 테스트셋 평가"
      ]
    },
    {
      "cell_type": "code",
      "metadata": {
        "id": "Ogm67Bqc5x-d"
      },
      "source": [
        "#시작 시간 설정\n",
        "t0 = time.time()\n",
        "\n",
        "# 평가모드로 변경\n",
        "model.eval()\n",
        "\n",
        "# 변수 초기화\n",
        "eval_loss, eval_accuracy = 0, 0\n",
        "nb_eval_steps, nb_eval_examples = 0, 0\n",
        "\n",
        "# 데이터로더에서 배치만큼 반복하여 가져옴\n",
        "for step, batch in enumerate(test_dataloader):\n",
        "    # 경과 정보 표시\n",
        "    if step % 100 == 0 and not step == 0:\n",
        "        elapsed = format_time(time.time() - t0)\n",
        "        print('  Step {:>5,}  of  {:>5,}.    Elapsed: {:}.'.format(step, len(test_dataloader), elapsed))\n",
        "\n",
        "    # 배치를 GPU에 넣음\n",
        "    batch = tuple(t.to(device) for t in batch)\n",
        "    \n",
        "    # 배치에서 데이터 추출\n",
        "    b_input_ids, b_input_mask, b_labels = batch\n",
        "    \n",
        "    with torch.no_grad():     \n",
        "        # Forward 수행\n",
        "        outputs = model(b_input_ids, \n",
        "                        token_type_ids=None, \n",
        "                        attention_mask=b_input_mask)\n",
        "    \n",
        "        # 로짓 구함\n",
        "    logits = outputs.logits\n",
        "\n",
        "    # CPU로 데이터 이동\n",
        "    logits = logits.detach().cpu().numpy()\n",
        "    label_ids = b_labels.to('cpu').numpy()\n",
        "    \n",
        "    # 출력 로짓과 라벨을 비교하여 정확도 계산\n",
        "    tmp_eval_accuracy = flat_accuracy(logits, label_ids)\n",
        "    eval_accuracy += tmp_eval_accuracy\n",
        "    nb_eval_steps += 1\n",
        "\n",
        "print(\"\")\n",
        "print(\"Accuracy: {0:.4f}\".format(eval_accuracy/nb_eval_steps))\n",
        "print(\"Test took: {:}\".format(format_time(time.time() - t0)))"
      ],
      "execution_count": null,
      "outputs": []
    }
  ]
}